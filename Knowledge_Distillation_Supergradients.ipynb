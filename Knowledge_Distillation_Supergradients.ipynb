{
  "nbformat": 4,
  "nbformat_minor": 0,
  "metadata": {
    "colab": {
      "provenance": []
    },
    "kernelspec": {
      "name": "python3",
      "display_name": "Python 3"
    },
    "language_info": {
      "name": "python"
    },
    "gpuClass": "standard",
    "accelerator": "GPU",
    "widgets": {
      "application/vnd.jupyter.widget-state+json": {
        "76762f3936ac45399471400f05dbd030": {
          "model_module": "@jupyter-widgets/controls",
          "model_name": "HBoxModel",
          "model_module_version": "1.5.0",
          "state": {
            "_dom_classes": [],
            "_model_module": "@jupyter-widgets/controls",
            "_model_module_version": "1.5.0",
            "_model_name": "HBoxModel",
            "_view_count": null,
            "_view_module": "@jupyter-widgets/controls",
            "_view_module_version": "1.5.0",
            "_view_name": "HBoxView",
            "box_style": "",
            "children": [
              "IPY_MODEL_755c9fa2a04c44938083dce3136cc20b",
              "IPY_MODEL_df625446b1dc481b822a696672c7d49d",
              "IPY_MODEL_67778955d90b4c6fa45a0a71c1fe204b"
            ],
            "layout": "IPY_MODEL_4a70c5d3c95e40d0be79aa01c65c9046"
          }
        },
        "755c9fa2a04c44938083dce3136cc20b": {
          "model_module": "@jupyter-widgets/controls",
          "model_name": "HTMLModel",
          "model_module_version": "1.5.0",
          "state": {
            "_dom_classes": [],
            "_model_module": "@jupyter-widgets/controls",
            "_model_module_version": "1.5.0",
            "_model_name": "HTMLModel",
            "_view_count": null,
            "_view_module": "@jupyter-widgets/controls",
            "_view_module_version": "1.5.0",
            "_view_name": "HTMLView",
            "description": "",
            "description_tooltip": null,
            "layout": "IPY_MODEL_0d762f4e485145d6a30cb2c362fdc01b",
            "placeholder": "​",
            "style": "IPY_MODEL_5eec78c68a224d1e81b3e6ce63a8a57a",
            "value": "100%"
          }
        },
        "df625446b1dc481b822a696672c7d49d": {
          "model_module": "@jupyter-widgets/controls",
          "model_name": "FloatProgressModel",
          "model_module_version": "1.5.0",
          "state": {
            "_dom_classes": [],
            "_model_module": "@jupyter-widgets/controls",
            "_model_module_version": "1.5.0",
            "_model_name": "FloatProgressModel",
            "_view_count": null,
            "_view_module": "@jupyter-widgets/controls",
            "_view_module_version": "1.5.0",
            "_view_name": "ProgressView",
            "bar_style": "success",
            "description": "",
            "description_tooltip": null,
            "layout": "IPY_MODEL_e04b6099d63a429b9ae955cde389e386",
            "max": 102548737,
            "min": 0,
            "orientation": "horizontal",
            "style": "IPY_MODEL_6cb71dc11bb3414d8295270261ca065f",
            "value": 102548737
          }
        },
        "67778955d90b4c6fa45a0a71c1fe204b": {
          "model_module": "@jupyter-widgets/controls",
          "model_name": "HTMLModel",
          "model_module_version": "1.5.0",
          "state": {
            "_dom_classes": [],
            "_model_module": "@jupyter-widgets/controls",
            "_model_module_version": "1.5.0",
            "_model_name": "HTMLModel",
            "_view_count": null,
            "_view_module": "@jupyter-widgets/controls",
            "_view_module_version": "1.5.0",
            "_view_name": "HTMLView",
            "description": "",
            "description_tooltip": null,
            "layout": "IPY_MODEL_13a7ef96e0c243988d4c7475f4672171",
            "placeholder": "​",
            "style": "IPY_MODEL_762ad0bf6996487eb60efa8d02a90440",
            "value": " 97.8M/97.8M [00:04&lt;00:00, 31.5MB/s]"
          }
        },
        "4a70c5d3c95e40d0be79aa01c65c9046": {
          "model_module": "@jupyter-widgets/base",
          "model_name": "LayoutModel",
          "model_module_version": "1.2.0",
          "state": {
            "_model_module": "@jupyter-widgets/base",
            "_model_module_version": "1.2.0",
            "_model_name": "LayoutModel",
            "_view_count": null,
            "_view_module": "@jupyter-widgets/base",
            "_view_module_version": "1.2.0",
            "_view_name": "LayoutView",
            "align_content": null,
            "align_items": null,
            "align_self": null,
            "border": null,
            "bottom": null,
            "display": null,
            "flex": null,
            "flex_flow": null,
            "grid_area": null,
            "grid_auto_columns": null,
            "grid_auto_flow": null,
            "grid_auto_rows": null,
            "grid_column": null,
            "grid_gap": null,
            "grid_row": null,
            "grid_template_areas": null,
            "grid_template_columns": null,
            "grid_template_rows": null,
            "height": null,
            "justify_content": null,
            "justify_items": null,
            "left": null,
            "margin": null,
            "max_height": null,
            "max_width": null,
            "min_height": null,
            "min_width": null,
            "object_fit": null,
            "object_position": null,
            "order": null,
            "overflow": null,
            "overflow_x": null,
            "overflow_y": null,
            "padding": null,
            "right": null,
            "top": null,
            "visibility": null,
            "width": null
          }
        },
        "0d762f4e485145d6a30cb2c362fdc01b": {
          "model_module": "@jupyter-widgets/base",
          "model_name": "LayoutModel",
          "model_module_version": "1.2.0",
          "state": {
            "_model_module": "@jupyter-widgets/base",
            "_model_module_version": "1.2.0",
            "_model_name": "LayoutModel",
            "_view_count": null,
            "_view_module": "@jupyter-widgets/base",
            "_view_module_version": "1.2.0",
            "_view_name": "LayoutView",
            "align_content": null,
            "align_items": null,
            "align_self": null,
            "border": null,
            "bottom": null,
            "display": null,
            "flex": null,
            "flex_flow": null,
            "grid_area": null,
            "grid_auto_columns": null,
            "grid_auto_flow": null,
            "grid_auto_rows": null,
            "grid_column": null,
            "grid_gap": null,
            "grid_row": null,
            "grid_template_areas": null,
            "grid_template_columns": null,
            "grid_template_rows": null,
            "height": null,
            "justify_content": null,
            "justify_items": null,
            "left": null,
            "margin": null,
            "max_height": null,
            "max_width": null,
            "min_height": null,
            "min_width": null,
            "object_fit": null,
            "object_position": null,
            "order": null,
            "overflow": null,
            "overflow_x": null,
            "overflow_y": null,
            "padding": null,
            "right": null,
            "top": null,
            "visibility": null,
            "width": null
          }
        },
        "5eec78c68a224d1e81b3e6ce63a8a57a": {
          "model_module": "@jupyter-widgets/controls",
          "model_name": "DescriptionStyleModel",
          "model_module_version": "1.5.0",
          "state": {
            "_model_module": "@jupyter-widgets/controls",
            "_model_module_version": "1.5.0",
            "_model_name": "DescriptionStyleModel",
            "_view_count": null,
            "_view_module": "@jupyter-widgets/base",
            "_view_module_version": "1.2.0",
            "_view_name": "StyleView",
            "description_width": ""
          }
        },
        "e04b6099d63a429b9ae955cde389e386": {
          "model_module": "@jupyter-widgets/base",
          "model_name": "LayoutModel",
          "model_module_version": "1.2.0",
          "state": {
            "_model_module": "@jupyter-widgets/base",
            "_model_module_version": "1.2.0",
            "_model_name": "LayoutModel",
            "_view_count": null,
            "_view_module": "@jupyter-widgets/base",
            "_view_module_version": "1.2.0",
            "_view_name": "LayoutView",
            "align_content": null,
            "align_items": null,
            "align_self": null,
            "border": null,
            "bottom": null,
            "display": null,
            "flex": null,
            "flex_flow": null,
            "grid_area": null,
            "grid_auto_columns": null,
            "grid_auto_flow": null,
            "grid_auto_rows": null,
            "grid_column": null,
            "grid_gap": null,
            "grid_row": null,
            "grid_template_areas": null,
            "grid_template_columns": null,
            "grid_template_rows": null,
            "height": null,
            "justify_content": null,
            "justify_items": null,
            "left": null,
            "margin": null,
            "max_height": null,
            "max_width": null,
            "min_height": null,
            "min_width": null,
            "object_fit": null,
            "object_position": null,
            "order": null,
            "overflow": null,
            "overflow_x": null,
            "overflow_y": null,
            "padding": null,
            "right": null,
            "top": null,
            "visibility": null,
            "width": null
          }
        },
        "6cb71dc11bb3414d8295270261ca065f": {
          "model_module": "@jupyter-widgets/controls",
          "model_name": "ProgressStyleModel",
          "model_module_version": "1.5.0",
          "state": {
            "_model_module": "@jupyter-widgets/controls",
            "_model_module_version": "1.5.0",
            "_model_name": "ProgressStyleModel",
            "_view_count": null,
            "_view_module": "@jupyter-widgets/base",
            "_view_module_version": "1.2.0",
            "_view_name": "StyleView",
            "bar_color": null,
            "description_width": ""
          }
        },
        "13a7ef96e0c243988d4c7475f4672171": {
          "model_module": "@jupyter-widgets/base",
          "model_name": "LayoutModel",
          "model_module_version": "1.2.0",
          "state": {
            "_model_module": "@jupyter-widgets/base",
            "_model_module_version": "1.2.0",
            "_model_name": "LayoutModel",
            "_view_count": null,
            "_view_module": "@jupyter-widgets/base",
            "_view_module_version": "1.2.0",
            "_view_name": "LayoutView",
            "align_content": null,
            "align_items": null,
            "align_self": null,
            "border": null,
            "bottom": null,
            "display": null,
            "flex": null,
            "flex_flow": null,
            "grid_area": null,
            "grid_auto_columns": null,
            "grid_auto_flow": null,
            "grid_auto_rows": null,
            "grid_column": null,
            "grid_gap": null,
            "grid_row": null,
            "grid_template_areas": null,
            "grid_template_columns": null,
            "grid_template_rows": null,
            "height": null,
            "justify_content": null,
            "justify_items": null,
            "left": null,
            "margin": null,
            "max_height": null,
            "max_width": null,
            "min_height": null,
            "min_width": null,
            "object_fit": null,
            "object_position": null,
            "order": null,
            "overflow": null,
            "overflow_x": null,
            "overflow_y": null,
            "padding": null,
            "right": null,
            "top": null,
            "visibility": null,
            "width": null
          }
        },
        "762ad0bf6996487eb60efa8d02a90440": {
          "model_module": "@jupyter-widgets/controls",
          "model_name": "DescriptionStyleModel",
          "model_module_version": "1.5.0",
          "state": {
            "_model_module": "@jupyter-widgets/controls",
            "_model_module_version": "1.5.0",
            "_model_name": "DescriptionStyleModel",
            "_view_count": null,
            "_view_module": "@jupyter-widgets/base",
            "_view_module_version": "1.2.0",
            "_view_name": "StyleView",
            "description_width": ""
          }
        }
      }
    }
  },
  "cells": [
    {
      "cell_type": "code",
      "source": [
        "! pip install super_gradients==3.0.0 \n",
        "! pip install matplotlib==3.1.3 \n",
        "from super_gradients import Trainer\n",
        "from google.colab import files\n",
        "from torchvision.io import read_image\n",
        "import torch\n",
        "from torch.utils.data import Dataset\n",
        "from torchvision import datasets\n",
        "from torchvision.transforms import ToTensor\n",
        "import matplotlib.pyplot as plt\n",
        "from torchvision import transforms\n",
        "from torch.utils.data import DataLoader\n",
        "from super_gradients.training import models\n",
        "from super_gradients.training import Trainer\n",
        "from super_gradients.training import training_hyperparams\n",
        "from super_gradients.training.losses import KDLogitsLoss, LabelSmoothingCrossEntropyLoss\n",
        "from super_gradients.training import KDTrainer\n",
        "import os\n",
        "from PIL import Image\n",
        "import numpy as np\n",
        "import requests\n",
        "from super_gradients.training.metrics import Accuracy, Top5"
      ],
      "metadata": {
        "id": "VB1Fz3inDKCc"
      },
      "execution_count": null,
      "outputs": []
    },
    {
      "cell_type": "code",
      "source": [
        "! pip install -q kaggle\n",
        "files.upload()\n",
        "! cp kaggle.json ~/.kaggle/\n",
        "! chmod 600 ~/.kaggle/kaggle.json\n",
        "!kaggle datasets download -d omarrelsayeed/plants-classification\n",
        "!unzip /content/plants-classification.zip -d /content/alldataset"
      ],
      "metadata": {
        "id": "7PO8C8l0ypkN"
      },
      "execution_count": null,
      "outputs": []
    },
    {
      "cell_type": "code",
      "source": [
        "experiment_name = \"classification_transfer_learning\"\n",
        "model_name = \"resnet50\"\n",
        "\n",
        "CHECKPOINT_DIR = '/notebook_ckpts/'\n",
        "trainer = Trainer(experiment_name=experiment_name, ckpt_root_dir=CHECKPOINT_DIR)"
      ],
      "metadata": {
        "id": "_v1N3kXs3wo1",
        "pycharm": {
          "name": "#%%\n"
        }
      },
      "execution_count": null,
      "outputs": []
    },
    {
      "cell_type": "code",
      "source": [
        "device = torch.device('cuda' if torch.cuda.is_available() else 'cpu')\n",
        "\n",
        "\n",
        "# Define transformations for training and test sets-\n",
        "transform_train = transforms.Compose(\n",
        "    [\n",
        "        transforms.Resize((124,124)),\n",
        "      transforms.ToTensor(),\n",
        "     ]\n",
        "     )\n",
        "\n",
        "data_dir = 'My_Datasets/Cat_Dog_data/'\n",
        "\n",
        "all_data = datasets.ImageFolder(\"/content/alldataset/All_dataset\", \n",
        "                                  transform = transform_train)\n",
        "train_set, val_set = torch.utils.data.random_split(all_data, [8000, 465])\n",
        "classes = all_data.classes\n",
        "\n",
        "train_dataloader = DataLoader(train_set, batch_size=64, shuffle=True)\n",
        "test_dataloader = DataLoader(val_set, batch_size=64, shuffle=True)"
      ],
      "metadata": {
        "id": "4bcLl_8qybCa"
      },
      "execution_count": null,
      "outputs": []
    },
    {
      "cell_type": "code",
      "source": [
        "classes"
      ],
      "metadata": {
        "id": "o9ARzWIU2ZLW"
      },
      "execution_count": null,
      "outputs": []
    },
    {
      "cell_type": "code",
      "source": [
        "####################### STUDENT ###################\n",
        "model = models.get(model_name=model_name ,  num_classes=34, pretrained_weights=\"imagenet\")\n",
        "training_params =  training_hyperparams.get(\"training_hyperparams/cifar10_resnet_train_params\")\n",
        "training_params[\"max_epochs\"] = 1\n",
        "trainer.train(model=model, \n",
        "              training_params=training_params, \n",
        "              train_loader=train_dataloader,\n",
        "              valid_loader=test_dataloader)"
      ],
      "metadata": {
        "id": "KcwPWMjByhj9",
        "colab": {
          "base_uri": "https://localhost:8080/",
          "height": 763,
          "referenced_widgets": [
            "76762f3936ac45399471400f05dbd030",
            "755c9fa2a04c44938083dce3136cc20b",
            "df625446b1dc481b822a696672c7d49d",
            "67778955d90b4c6fa45a0a71c1fe204b",
            "4a70c5d3c95e40d0be79aa01c65c9046",
            "0d762f4e485145d6a30cb2c362fdc01b",
            "5eec78c68a224d1e81b3e6ce63a8a57a",
            "e04b6099d63a429b9ae955cde389e386",
            "6cb71dc11bb3414d8295270261ca065f",
            "13a7ef96e0c243988d4c7475f4672171",
            "762ad0bf6996487eb60efa8d02a90440"
          ]
        },
        "outputId": "eb8318e5-02e2-4367-853d-9b0e8e38d6b3"
      },
      "execution_count": null,
      "outputs": [
        {
          "output_type": "stream",
          "name": "stderr",
          "text": [
            "Downloading: \"https://deci-pretrained-models.s3.amazonaws.com/KD_ResNet50_Beit_Base_ImageNet/resnet.pth\" to /root/.cache/torch/hub/checkpoints/KD_ResNet50_Beit_Base_ImageNet_resnet.pth\n"
          ]
        },
        {
          "output_type": "display_data",
          "data": {
            "text/plain": [
              "  0%|          | 0.00/97.8M [00:00<?, ?B/s]"
            ],
            "application/vnd.jupyter.widget-view+json": {
              "version_major": 2,
              "version_minor": 0,
              "model_id": "76762f3936ac45399471400f05dbd030"
            }
          },
          "metadata": {}
        },
        {
          "output_type": "stream",
          "name": "stderr",
          "text": [
            "/usr/local/lib/python3.8/dist-packages/super_gradients/training/training_hyperparams/training_hyperparams.py:24: UserWarning: \n",
            "The version_base parameter is not specified.\n",
            "Please specify a compatability version level, or None.\n",
            "Will assume defaults for version 1.1\n",
            "  with initialize_config_dir(config_dir=pkg_resources.resource_filename(\"super_gradients.recipes\", \"\")):\n",
            "/usr/local/lib/python3.8/dist-packages/hydra/_internal/defaults_list.py:251: UserWarning: In 'training_hyperparams/cifar10_resnet_train_params': Defaults list is missing `_self_`. See https://hydra.cc/docs/1.2/upgrades/1.0_to_1.1/default_composition_order for more information\n",
            "  warnings.warn(msg, UserWarning)\n"
          ]
        },
        {
          "output_type": "stream",
          "name": "stdout",
          "text": [
            "sg_trainer -INFO- Started training for 1 epochs (0/0)\n",
            "\n"
          ]
        },
        {
          "output_type": "stream",
          "name": "stderr",
          "text": [
            "Train epoch 0:   0%|          | 0/125 [00:00<?, ?it/s]/usr/local/lib/python3.8/dist-packages/torch/cuda/memory.py:395: FutureWarning: torch.cuda.memory_cached has been renamed to torch.cuda.memory_reserved\n",
            "  warnings.warn(\n",
            "Train epoch 0: 100%|██████████| 125/125 [00:54<00:00,  2.29it/s, Accuracy=0.622, LabelSmoothingCrossEntropyLoss=1.24, Top5=0.885, gpu_mem=2.24]\n",
            "Validation epoch 0: 100%|██████████| 8/8 [00:01<00:00,  4.60it/s]\n"
          ]
        },
        {
          "output_type": "stream",
          "name": "stdout",
          "text": [
            "===========================================================\n",
            "SUMMARY OF EPOCH 0\n",
            "├── Training\n",
            "│   └── Labelsmoothingcrossentropyloss = 1.2383\n",
            "└── Validation\n",
            "    ├── Accuracy = 0.6151\n",
            "    └── Labelsmoothingcrossentropyloss = 1.2528\n",
            "\n",
            "===========================================================\n",
            "base_sg_logger -INFO- Checkpoint saved in /notebook_ckpts/classification_transfer_learning/ckpt_best.pth\n",
            "sg_trainer -INFO- Best checkpoint overriden: validation Accuracy: 0.6150537729263306\n",
            "sg_trainer -INFO- RUNNING ADDITIONAL TEST ON THE AVERAGED MODEL...\n"
          ]
        },
        {
          "output_type": "stream",
          "name": "stderr",
          "text": [
            "Validation epoch 1: 100%|██████████| 8/8 [00:02<00:00,  3.70it/s]"
          ]
        },
        {
          "output_type": "stream",
          "name": "stdout",
          "text": [
            "===========================================================\n",
            "SUMMARY OF EPOCH 1\n",
            "├── Training\n",
            "│   └── Labelsmoothingcrossentropyloss = 1.2383\n",
            "└── Validation\n",
            "    ├── Accuracy = 0.6151\n",
            "    │   ├── Best until now = 0.6151 (\u001b[32m↘ 0.0\u001b[0m)\n",
            "    │   └── Epoch N-1      = 0.6151 (\u001b[32m↘ 0.0\u001b[0m)\n",
            "    └── Labelsmoothingcrossentropyloss = 1.2528\n",
            "        ├── Best until now = 1.2528 (\u001b[32m↘ -0.0\u001b[0m)\n",
            "        └── Epoch N-1      = 1.2528 (\u001b[32m↘ -0.0\u001b[0m)\n",
            "\n",
            "===========================================================\n"
          ]
        },
        {
          "output_type": "stream",
          "name": "stderr",
          "text": [
            "\n"
          ]
        }
      ]
    },
    {
      "cell_type": "code",
      "source": [
        "############## Teacher ####################\n",
        "pretrained_beit = models.get('beit_base_patch16_224', arch_params={'num_classes': 34, \"image_size\": [224, 224], \"patch_size\": [16, 16]}, pretrained_weights=\"imagenet\")\n",
        "trainer2 = Trainer(experiment_name=\"beit_base_patch16_224_test\", ckpt_root_dir=\"/notebook_ckpts/\")\n",
        "experiment_name = \"kd_cifar10_resnet\"\n",
        "checkpoint_dir = \"/notebook_ckpts/\"\n",
        "kd_trainer = KDTrainer(experiment_name=experiment_name, ckpt_root_dir=checkpoint_dir)\n",
        "\n",
        "\n",
        "kd_params = {\n",
        "    \"max_epochs\": 1,          # We will stop after 3 epochs because it is slow to train on google collab\n",
        "    'lr_cooldown_epochs': 0,  # We dont want to use lr cooldown since we only train for 3 epochs\n",
        "    'lr_warmup_epochs': 0,    # We dont want to use lr  warmup  since we only train for 3 epochs\n",
        "    \"loss\": KDLogitsLoss(distillation_loss_coeff=0.8, task_loss_fn=LabelSmoothingCrossEntropyLoss()),\n",
        "    \"loss_logging_items_names\": [\"Loss\", \"Task Loss\", \"Distillation Loss\"]}\n",
        "\n",
        "training_params = training_hyperparams.get(\"imagenet_resnet50_kd\", overriding_params=kd_params)\n",
        "arch_params={\"teacher_input_adapter\": transforms.Resize(224)}\n",
        "\n",
        "kd_trainer.train(training_params=training_params,\n",
        "                 student=model,\n",
        "                 teacher=pretrained_beit,\n",
        "                 kd_architecture=\"kd_module\",\n",
        "                 kd_arch_params=arch_params,\n",
        "                 train_loader=train_dataloader, valid_loader = test_dataloader)"
      ],
      "metadata": {
        "id": "iiT7wKzI_oDw"
      },
      "execution_count": null,
      "outputs": []
    },
    {
      "cell_type": "code",
      "source": [
        "_ , acc , t5 = trainer.test(model=model, test_loader=test_dataloader, test_metrics_list=[Accuracy(), Top5()])"
      ],
      "metadata": {
        "colab": {
          "base_uri": "https://localhost:8080/"
        },
        "id": "iX5FksKHAmG8",
        "outputId": "f2ec63e1-f7e8-47c6-b801-3fcdd29c10fd"
      },
      "execution_count": null,
      "outputs": [
        {
          "output_type": "stream",
          "name": "stderr",
          "text": [
            "Test: 100%|██████████| 8/8 [00:01<00:00,  4.26it/s]\n"
          ]
        }
      ]
    },
    {
      "cell_type": "code",
      "source": [
        "acc , t5"
      ],
      "metadata": {
        "colab": {
          "base_uri": "https://localhost:8080/"
        },
        "id": "d-yCFqqVGFFK",
        "outputId": "b9fbbece-9895-474f-d9fb-b97a4286584e"
      },
      "execution_count": null,
      "outputs": [
        {
          "output_type": "execute_result",
          "data": {
            "text/plain": [
              "(tensor(0.8366, device='cuda:0'), tensor(0.9699, device='cuda:0'))"
            ]
          },
          "metadata": {},
          "execution_count": 15
        }
      ]
    },
    {
      "cell_type": "code",
      "source": [
        "image = np.asarray(Image.open(\"/content/alldataset/All_dataset/Carolin/20221224_132919.jpg\"))\n",
        "\n",
        "pred_transforms = transforms.Compose([\n",
        "    transforms.ToTensor(),\n",
        "    transforms.Resize((64, 64)),\n",
        "    transforms.Normalize(mean=(0.4914, 0.4822, 0.4465), std=(0.2023, 0.1994, 0.2010))])\n",
        "\n",
        "model.eval()\n",
        "predictions = model(pred_transforms(image).unsqueeze(0).to('cuda'))\n",
        "\n",
        "plt.xlabel(classes[torch.argmax(predictions)])\n",
        "plt.imshow(image)"
      ],
      "metadata": {
        "id": "03gWJ0F8AmJK"
      },
      "execution_count": null,
      "outputs": []
    },
    {
      "cell_type": "code",
      "source": [
        "onnx_filename = f\"{experiment_name}_{model_name}.onnx\"\n",
        "\n",
        "model.eval()\n",
        "model.prep_model_for_conversion(input_size=[1, 3, 32, 32]) # image shape of CIFAR10 images\n",
        "dummy_input = torch.randn([1, 3, 32, 32], device=next(model.parameters()).device)\n",
        "\n",
        "torch.onnx.export(model, dummy_input, onnx_filename)"
      ],
      "metadata": {
        "id": "CRW0o7i6-FcY",
        "pycharm": {
          "name": "#%%\n"
        }
      },
      "execution_count": null,
      "outputs": []
    }
  ]
}