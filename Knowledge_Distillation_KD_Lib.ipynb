{
  "nbformat": 4,
  "nbformat_minor": 0,
  "metadata": {
    "colab": {
      "provenance": []
    },
    "kernelspec": {
      "name": "python3",
      "display_name": "Python 3"
    },
    "language_info": {
      "name": "python"
    },
    "accelerator": "TPU",
    "gpuClass": "standard"
  },
  "cells": [
    {
      "cell_type": "code",
      "source": [
        "import torch\n",
        "import torch.optim as optim\n",
        "from torchvision import datasets, transforms\n",
        "!pip install KD-Lib\n",
        "from KD_Lib.KD import VanillaKD"
      ],
      "metadata": {
        "id": "CDakVgyaHacd"
      },
      "execution_count": null,
      "outputs": []
    },
    {
      "cell_type": "code",
      "source": [
        "!pip install timm"
      ],
      "metadata": {
        "id": "qeCi3fjCI9nC"
      },
      "execution_count": null,
      "outputs": []
    },
    {
      "cell_type": "code",
      "source": [
        "import timm\n",
        "student_model = timm.create_model('resnet34', pretrained=True , in_chans = 1 , num_classes = 10)\n",
        "teacher_model = timm.create_model('resnet50', pretrained=True , in_chans = 1 , num_classes = 10)"
      ],
      "metadata": {
        "id": "pjNpky3aJA-X"
      },
      "execution_count": null,
      "outputs": []
    },
    {
      "cell_type": "code",
      "source": [
        "# This part is where you define your datasets, dataloaders, models and optimizers\n",
        "\n",
        "train_loader = torch.utils.data.DataLoader(\n",
        "    datasets.MNIST(\n",
        "        \"mnist_data\",\n",
        "        train=True,\n",
        "        download=True,\n",
        "        transform=transforms.Compose(\n",
        "            [transforms.ToTensor(), transforms.Normalize((0.1307,), (0.3081,))]\n",
        "        ),\n",
        "    ),\n",
        "    batch_size=32,\n",
        "    shuffle=True,\n",
        ")\n",
        "\n",
        "test_loader = torch.utils.data.DataLoader(\n",
        "    datasets.MNIST(\n",
        "        \"mnist_data\",\n",
        "        train=False,\n",
        "        transform=transforms.Compose(\n",
        "            [transforms.ToTensor(), transforms.Normalize((0.1307,), (0.3081,))]\n",
        "        ),\n",
        "    ),\n",
        "    batch_size=32,\n",
        "    shuffle=True,\n",
        ")"
      ],
      "metadata": {
        "id": "31tJ8I5sJthp"
      },
      "execution_count": null,
      "outputs": []
    },
    {
      "cell_type": "code",
      "execution_count": null,
      "metadata": {
        "id": "NuFY-8rRHWKL"
      },
      "outputs": [],
      "source": [
        "teacher_optimizer = optim.SGD(teacher_model.parameters(), 0.01)\n",
        "student_optimizer = optim.SGD(student_model.parameters(), 0.01)\n",
        "\n",
        "# Now, this is where KD_Lib comes into the picture\n",
        "\n",
        "distiller = VanillaKD(teacher_model, student_model, train_loader, test_loader, \n",
        "                      teacher_optimizer, student_optimizer)  \n",
        "distiller.train_teacher(epochs=5, plot_losses=True, save_model=True)    # Train the teacher network\n",
        "distiller.train_student(epochs=5, plot_losses=True, save_model=True)    # Train the student network\n",
        "distiller.evaluate(teacher=False)                                       # Evaluate the student network\n",
        "distiller.get_parameters()"
      ]
    }
  ]
}